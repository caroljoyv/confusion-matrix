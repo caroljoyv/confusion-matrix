{
 "cells": [
  {
   "cell_type": "code",
   "execution_count": 38,
   "id": "f6db6d99",
   "metadata": {},
   "outputs": [],
   "source": [
    "import pandas as pd\n",
    "from sklearn.ensemble import RandomForestRegressor\n",
    "\n",
    "\n",
    "\n",
    "# Load the training data\n",
    "train_data = pd.read_csv('train.csv')\n",
    "train_data = train_data.drop([\"Date\",'Type'], axis = 1)\n",
    "\n",
    "# Define the target variable and the features to be used for training\n",
    "target_var = 'Weekly_Sales'\n",
    "features = ['Store', 'IsHoliday', 'Size','Total_MarkDown','Year','std', 'max','median','Week','Temperature', 'CPI', 'Unemployment']\n",
    "\n",
    "# Split the training data into target variable and features\n",
    "X_train = train_data[features]\n",
    "y_train = train_data[target_var]\n",
    "\n",
    "# Train the random forest model\n",
    "rf_model = RandomForestRegressor(n_estimators=100, random_state=42)\n",
    "rf_model.fit(X_train, y_train)\n",
    "\n",
    "# Load the test data\n",
    "test_data = pd.read_csv('test.csv')\n",
    "\n",
    "# Extract the features from the test data\n",
    "X_test = test_data[features]\n",
    "\n",
    "# Make predictions on the test data\n",
    "y_pred = rf_model.predict(X_test)\n",
    "\n",
    "\n",
    "\n",
    "# Create a DataFrame with the predicted values and all the attributes from the test data\n",
    "submission_df = pd.DataFrame(test_data)\n",
    "submission_df['Weekly_Sales'] = y_pred\n",
    "\n",
    "\n",
    "\n",
    "# Save the submission DataFrame to a CSV file with all the attributes\n",
    "submission_df.to_csv('submissions.csv', index=False)\n",
    "\n",
    "sub = pd.read_csv('submissions.csv')\n",
    "sub = sub .drop([\"IsHoliday\",'Total_MarkDown','Month','Fuel_Price','Store','Week','Size','mean','Temperature','min','CPI','Unemployment','Dept','median','max','Year','Date','Type','std'], axis = 1)\n",
    "\n",
    "\n",
    "sub.to_csv('sub1.csv',index = False)"
   ]
  },
  {
   "cell_type": "code",
   "execution_count": null,
   "id": "75d74111",
   "metadata": {},
   "outputs": [],
   "source": []
  },
  {
   "cell_type": "code",
   "execution_count": null,
   "id": "dc53c946",
   "metadata": {},
   "outputs": [],
   "source": []
  },
  {
   "cell_type": "code",
   "execution_count": null,
   "id": "f9a61689",
   "metadata": {},
   "outputs": [],
   "source": []
  },
  {
   "cell_type": "code",
   "execution_count": null,
   "id": "b1d48adf",
   "metadata": {},
   "outputs": [],
   "source": []
  },
  {
   "cell_type": "code",
   "execution_count": null,
   "id": "da4aed8d",
   "metadata": {},
   "outputs": [],
   "source": []
  },
  {
   "cell_type": "code",
   "execution_count": null,
   "id": "ddcf55c6",
   "metadata": {},
   "outputs": [],
   "source": []
  },
  {
   "cell_type": "code",
   "execution_count": null,
   "id": "c6de8bf0",
   "metadata": {},
   "outputs": [],
   "source": []
  },
  {
   "cell_type": "code",
   "execution_count": null,
   "id": "5a4d467c",
   "metadata": {},
   "outputs": [],
   "source": []
  },
  {
   "cell_type": "code",
   "execution_count": null,
   "id": "9d0fbc3a",
   "metadata": {},
   "outputs": [],
   "source": []
  },
  {
   "cell_type": "code",
   "execution_count": null,
   "id": "29b8968c",
   "metadata": {},
   "outputs": [],
   "source": []
  },
  {
   "cell_type": "code",
   "execution_count": null,
   "id": "849713f9",
   "metadata": {},
   "outputs": [],
   "source": []
  }
 ],
 "metadata": {
  "kernelspec": {
   "display_name": "Python 3 (ipykernel)",
   "language": "python",
   "name": "python3"
  },
  "language_info": {
   "codemirror_mode": {
    "name": "ipython",
    "version": 3
   },
   "file_extension": ".py",
   "mimetype": "text/x-python",
   "name": "python",
   "nbconvert_exporter": "python",
   "pygments_lexer": "ipython3",
   "version": "3.9.13"
  }
 },
 "nbformat": 4,
 "nbformat_minor": 5
}
